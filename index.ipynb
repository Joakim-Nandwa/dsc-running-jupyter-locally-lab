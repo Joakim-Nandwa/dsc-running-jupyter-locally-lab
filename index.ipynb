{
  "cells": [
    {
      "cell_type": "markdown",
      "metadata": {
        "id": "view-in-github",
        "colab_type": "text"
      },
      "source": [
        "<a href=\"https://colab.research.google.com/github/Joakim-Nandwa/dsc-running-jupyter-locally-lab/blob/master/index.ipynb\" target=\"_parent\"><img src=\"https://colab.research.google.com/assets/colab-badge.svg\" alt=\"Open In Colab\"/></a>"
      ]
    },
    {
      "cell_type": "markdown",
      "metadata": {
        "id": "yJd3w6hJAvfw"
      },
      "source": [
        "# Introduction to Variables: Variable Assignment"
      ]
    },
    {
      "cell_type": "markdown",
      "metadata": {
        "id": "pZPwHCozAvf0"
      },
      "source": [
        "## Introduction"
      ]
    },
    {
      "cell_type": "markdown",
      "metadata": {
        "id": "OR4PHc8QAvf0"
      },
      "source": [
        "> \"There are only two hard things in Computer Science: cache invalidation and naming things.\"\n",
        "\n",
        "> -- Phil Karlton\n",
        "\n",
        "> \"...But ordinary language is all right.\"\n",
        "\n",
        "> -- Ludwig Wittgenstein"
      ]
    },
    {
      "cell_type": "markdown",
      "metadata": {
        "id": "DRybt3F7Avf0"
      },
      "source": [
        "## Objectives\n",
        "You will be able to:\n",
        "\n",
        "* Assign and declare a Python variable"
      ]
    },
    {
      "cell_type": "markdown",
      "metadata": {
        "id": "0rJJY2WMAvf1"
      },
      "source": [
        "## Declaring and Assigning Variables"
      ]
    },
    {
      "cell_type": "markdown",
      "metadata": {
        "id": "OTsYdg1ZAvf1"
      },
      "source": [
        "In this lesson, we'll learn how to use variables to assign names to data.  For example, the name `\"art vandelay\"`."
      ]
    },
    {
      "cell_type": "code",
      "execution_count": 1,
      "metadata": {
        "id": "HX9OQXjzAvf1",
        "outputId": "34f837de-6cd8-4854-daba-58607b5852a9",
        "colab": {
          "base_uri": "https://localhost:8080/",
          "height": 36
        }
      },
      "outputs": [
        {
          "output_type": "execute_result",
          "data": {
            "text/plain": [
              "'Art Vandelay'"
            ],
            "application/vnd.google.colaboratory.intrinsic+json": {
              "type": "string"
            }
          },
          "metadata": {},
          "execution_count": 1
        }
      ],
      "source": [
        "\"Art Vandelay\""
      ]
    },
    {
      "cell_type": "code",
      "source": [
        "'Joakim Nandwa'"
      ],
      "metadata": {
        "colab": {
          "base_uri": "https://localhost:8080/",
          "height": 36
        },
        "id": "9exHK_QuUoF2",
        "outputId": "c54b4b01-715d-4152-bfec-815c208568e0"
      },
      "execution_count": 2,
      "outputs": [
        {
          "output_type": "execute_result",
          "data": {
            "text/plain": [
              "'Joakim Nandwa'"
            ],
            "application/vnd.google.colaboratory.intrinsic+json": {
              "type": "string"
            }
          },
          "metadata": {},
          "execution_count": 2
        }
      ]
    },
    {
      "cell_type": "code",
      "source": [
        "Name='Joakim Nandwa'\n",
        "Name"
      ],
      "metadata": {
        "colab": {
          "base_uri": "https://localhost:8080/",
          "height": 36
        },
        "id": "uMhkWozxU6Zh",
        "outputId": "c8477ce3-a7d4-455d-e829-6fc8d67d5cc8"
      },
      "execution_count": 4,
      "outputs": [
        {
          "output_type": "execute_result",
          "data": {
            "text/plain": [
              "'Joakim Nandwa'"
            ],
            "application/vnd.google.colaboratory.intrinsic+json": {
              "type": "string"
            }
          },
          "metadata": {},
          "execution_count": 4
        }
      ]
    },
    {
      "cell_type": "markdown",
      "metadata": {
        "id": "wZXpqZglAvf3"
      },
      "source": [
        "Now months later, if we see that string in some code, we may be confused as to what it is, and with even more data, this only becomes more difficult.\n",
        "\n",
        "So, let's use variables to indicate what each of the following strings mean."
      ]
    },
    {
      "cell_type": "code",
      "execution_count": 7,
      "metadata": {
        "id": "Kq7C5vyTAvf3"
      },
      "outputs": [],
      "source": [
        "email = \"art.vandelay@vandelay.com\""
      ]
    },
    {
      "cell_type": "code",
      "source": [
        "email"
      ],
      "metadata": {
        "colab": {
          "base_uri": "https://localhost:8080/",
          "height": 36
        },
        "id": "1OwVHxt-Wbju",
        "outputId": "b0b4ba24-2566-49a1-a967-56eb23695ec5"
      },
      "execution_count": 6,
      "outputs": [
        {
          "output_type": "execute_result",
          "data": {
            "text/plain": [
              "'art.vandelay@vandelay.com'"
            ],
            "application/vnd.google.colaboratory.intrinsic+json": {
              "type": "string"
            }
          },
          "metadata": {},
          "execution_count": 6
        }
      ]
    },
    {
      "cell_type": "code",
      "source": [
        "student_email = 'joakimnandwa@gmail.com'\n",
        "student_email"
      ],
      "metadata": {
        "colab": {
          "base_uri": "https://localhost:8080/",
          "height": 36
        },
        "id": "0nsQ9ZSsWehy",
        "outputId": "4d9ee006-d64e-4119-a145-dd932a91c025"
      },
      "execution_count": 12,
      "outputs": [
        {
          "output_type": "execute_result",
          "data": {
            "text/plain": [
              "'joakimnandwa@gmail.com'"
            ],
            "application/vnd.google.colaboratory.intrinsic+json": {
              "type": "string"
            }
          },
          "metadata": {},
          "execution_count": 12
        }
      ]
    },
    {
      "cell_type": "markdown",
      "metadata": {
        "id": "KbHMNzyRAvf4"
      },
      "source": [
        "> **Note:** For this, and all of the subsequent code in gray boxes, you should press shift + enter to ensure that the code executes. If you do not do so with the line above for example, then when we reference `email` in the lines that follow, Jupyter will throw an error indicating that the variable is undefined. So, it is not enough to just type the correct code, we need to run shift + enter on our gray boxes to run this code."
      ]
    },
    {
      "cell_type": "markdown",
      "metadata": {
        "id": "mCLYpYuPAvf4"
      },
      "source": [
        "In programming terms, we say that we just declared a variable, `email`, and assigned it to the string, `\"art.vandelay@vandelay.com\"`.  To do so, we'll follow the procedure below:\n",
        "\n",
        "    variable = data\n",
        "\n",
        "Now that we have assigned a variable `email` to a string, we just type the word `email` to see the string again."
      ]
    },
    {
      "cell_type": "code",
      "execution_count": 13,
      "metadata": {
        "id": "fZMiMuCbAvf4",
        "outputId": "363d4236-aaef-4e6f-89bc-2b3b5f8a4e6b",
        "colab": {
          "base_uri": "https://localhost:8080/",
          "height": 36
        }
      },
      "outputs": [
        {
          "output_type": "execute_result",
          "data": {
            "text/plain": [
              "'art.vandelay@vandelay.com'"
            ],
            "application/vnd.google.colaboratory.intrinsic+json": {
              "type": "string"
            }
          },
          "metadata": {},
          "execution_count": 13
        }
      ],
      "source": [
        "email"
      ]
    },
    {
      "cell_type": "code",
      "source": [
        "student_email"
      ],
      "metadata": {
        "colab": {
          "base_uri": "https://localhost:8080/",
          "height": 36
        },
        "id": "6oRV3-RJpZEC",
        "outputId": "17ed2301-3dee-4b06-b27a-c636921d68ba"
      },
      "execution_count": 14,
      "outputs": [
        {
          "output_type": "execute_result",
          "data": {
            "text/plain": [
              "'joakimnandwa@gmail.com'"
            ],
            "application/vnd.google.colaboratory.intrinsic+json": {
              "type": "string"
            }
          },
          "metadata": {},
          "execution_count": 14
        }
      ]
    },
    {
      "cell_type": "markdown",
      "metadata": {
        "id": "dJDER2BLAvf4"
      },
      "source": [
        "> *remember to press shift + enter on the gray box above to see the value of our variable, *`email`*.*"
      ]
    },
    {
      "cell_type": "markdown",
      "metadata": {
        "id": "oAaPwWktAvf4"
      },
      "source": [
        "Now let's try this with the website:"
      ]
    },
    {
      "cell_type": "code",
      "execution_count": 15,
      "metadata": {
        "id": "aTlp13zGAvf4",
        "outputId": "8225f08c-fef3-402c-dee1-81b8d4c6b194",
        "colab": {
          "base_uri": "https://localhost:8080/",
          "height": 36
        }
      },
      "outputs": [
        {
          "data": {
            "application/vnd.google.colaboratory.intrinsic+json": {
              "type": "string"
            },
            "text/plain": [
              "'vandelay.com'"
            ]
          },
          "execution_count": 15,
          "metadata": {},
          "output_type": "execute_result"
        }
      ],
      "source": [
        "website = \"vandelay.com\"\n",
        "website"
      ]
    },
    {
      "cell_type": "code",
      "source": [
        "# Declaring a website and assigning www.moringaschool.com to =website\n",
        "school_website = 'www.moringaschool.com'\n",
        "school_website"
      ],
      "metadata": {
        "colab": {
          "base_uri": "https://localhost:8080/",
          "height": 36
        },
        "id": "xwz8ZINypeyf",
        "outputId": "16d9f2b0-903b-4244-b601-b943d874db7b"
      },
      "execution_count": 16,
      "outputs": [
        {
          "output_type": "execute_result",
          "data": {
            "text/plain": [
              "'www.moringaschool.com'"
            ],
            "application/vnd.google.colaboratory.intrinsic+json": {
              "type": "string"
            }
          },
          "metadata": {},
          "execution_count": 16
        }
      ]
    },
    {
      "cell_type": "markdown",
      "metadata": {
        "id": "FKewxeCRAvf5"
      },
      "source": [
        "Note that if you introduce a new variable, (declare it), but do not also assign it in the same line, Python will raise an error."
      ]
    },
    {
      "cell_type": "code",
      "execution_count": 17,
      "metadata": {
        "id": "fKi8HCdbAvf5",
        "outputId": "43eda4be-c53b-4a91-fee9-febad33b1c15",
        "colab": {
          "base_uri": "https://localhost:8080/",
          "height": 141
        }
      },
      "outputs": [
        {
          "output_type": "error",
          "ename": "NameError",
          "evalue": "name 'full_name' is not defined",
          "traceback": [
            "\u001b[0;31m---------------------------------------------------------------------------\u001b[0m",
            "\u001b[0;31mNameError\u001b[0m                                 Traceback (most recent call last)",
            "\u001b[0;32m<ipython-input-17-e1e889fa3b78>\u001b[0m in \u001b[0;36m<cell line: 1>\u001b[0;34m()\u001b[0m\n\u001b[0;32m----> 1\u001b[0;31m \u001b[0mfull_name\u001b[0m\u001b[0;34m\u001b[0m\u001b[0;34m\u001b[0m\u001b[0m\n\u001b[0m",
            "\u001b[0;31mNameError\u001b[0m: name 'full_name' is not defined"
          ]
        }
      ],
      "source": [
        "full_name"
      ]
    },
    {
      "cell_type": "markdown",
      "metadata": {
        "id": "RdPgloawAvf5"
      },
      "source": [
        "That error tells us that `full_name` is not defined.  We just fix this by declaring `full_name`, storing data inside that variable and returning that variable in the same line."
      ]
    },
    {
      "cell_type": "code",
      "execution_count": 18,
      "metadata": {
        "id": "M9WtP85xAvf5",
        "outputId": "40e81200-6e69-4468-aab8-4dcab10b446d",
        "colab": {
          "base_uri": "https://localhost:8080/",
          "height": 36
        }
      },
      "outputs": [
        {
          "output_type": "execute_result",
          "data": {
            "text/plain": [
              "'Art Vandelay'"
            ],
            "application/vnd.google.colaboratory.intrinsic+json": {
              "type": "string"
            }
          },
          "metadata": {},
          "execution_count": 18
        }
      ],
      "source": [
        "full_name = 'Art Vandelay'\n",
        "full_name"
      ]
    },
    {
      "cell_type": "code",
      "source": [
        "#Full name of the student\n",
        "student_full_name =' Joakim Kombe Nandwa'\n",
        "student_full_name"
      ],
      "metadata": {
        "colab": {
          "base_uri": "https://localhost:8080/",
          "height": 36
        },
        "id": "4R79w0UdqJyE",
        "outputId": "42ca0537-4dc8-4600-a165-8620f612d5a1"
      },
      "execution_count": 19,
      "outputs": [
        {
          "output_type": "execute_result",
          "data": {
            "text/plain": [
              "' Joakim Kombe Nandwa'"
            ],
            "application/vnd.google.colaboratory.intrinsic+json": {
              "type": "string"
            }
          },
          "metadata": {},
          "execution_count": 19
        }
      ]
    },
    {
      "cell_type": "markdown",
      "metadata": {
        "id": "Ikfsf7X5Avf5"
      },
      "source": [
        "So this is assigning and reading a variable.  And when we want to see some information again, we can easily find out."
      ]
    },
    {
      "cell_type": "code",
      "execution_count": 20,
      "metadata": {
        "id": "DZcdf4H6Avf5",
        "outputId": "ed9d39c1-0325-4318-a93e-aeecdd9ffe7e",
        "colab": {
          "base_uri": "https://localhost:8080/",
          "height": 36
        }
      },
      "outputs": [
        {
          "output_type": "execute_result",
          "data": {
            "text/plain": [
              "'art.vandelay@vandelay.com'"
            ],
            "application/vnd.google.colaboratory.intrinsic+json": {
              "type": "string"
            }
          },
          "metadata": {},
          "execution_count": 20
        }
      ],
      "source": [
        "email"
      ]
    },
    {
      "cell_type": "code",
      "source": [
        "student_email"
      ],
      "metadata": {
        "colab": {
          "base_uri": "https://localhost:8080/",
          "height": 36
        },
        "id": "bRnUs9wzqt5H",
        "outputId": "2abcb3ba-32ef-48a6-c511-7833f363f974"
      },
      "execution_count": 21,
      "outputs": [
        {
          "output_type": "execute_result",
          "data": {
            "text/plain": [
              "'joakimnandwa@gmail.com'"
            ],
            "application/vnd.google.colaboratory.intrinsic+json": {
              "type": "string"
            }
          },
          "metadata": {},
          "execution_count": 21
        }
      ]
    },
    {
      "cell_type": "code",
      "source": [
        "student_full_name"
      ],
      "metadata": {
        "colab": {
          "base_uri": "https://localhost:8080/",
          "height": 36
        },
        "id": "t5PZ1XDEqwuv",
        "outputId": "87d36147-57ad-4d55-fb07-b38d1f258b27"
      },
      "execution_count": 22,
      "outputs": [
        {
          "output_type": "execute_result",
          "data": {
            "text/plain": [
              "' Joakim Kombe Nandwa'"
            ],
            "application/vnd.google.colaboratory.intrinsic+json": {
              "type": "string"
            }
          },
          "metadata": {},
          "execution_count": 22
        }
      ]
    },
    {
      "cell_type": "markdown",
      "metadata": {
        "id": "9QiQVgfcAvf5"
      },
      "source": [
        "## Declaring variables without assignment"
      ]
    },
    {
      "cell_type": "markdown",
      "metadata": {
        "id": "-lQ1-YaHAvf5"
      },
      "source": [
        "We have seen that we can have data without assigning it to variables.  "
      ]
    },
    {
      "cell_type": "code",
      "execution_count": null,
      "metadata": {
        "id": "1igZ-JJNAvf5",
        "outputId": "7a93502f-4f8b-4624-a679-c482c895ab27"
      },
      "outputs": [
        {
          "data": {
            "text/plain": [
              "'Unassigned data'"
            ]
          },
          "execution_count": 8,
          "metadata": {},
          "output_type": "execute_result"
        }
      ],
      "source": [
        "\"Unassigned data\""
      ]
    },
    {
      "cell_type": "markdown",
      "metadata": {
        "id": "WgH1DGNDAvf5"
      },
      "source": [
        "Sometimes we wish to declare a variable without assigning it to data.  In Python, that's a little tricky to do.  As we just saw with `name`, declaring variables without assignment throws an error.  Thankfully, Python has a special type for us that represents nothing at all."
      ]
    },
    {
      "cell_type": "code",
      "execution_count": 23,
      "metadata": {
        "id": "PQDoaAb7Avf6"
      },
      "outputs": [],
      "source": [
        "None"
      ]
    },
    {
      "cell_type": "code",
      "execution_count": 24,
      "metadata": {
        "id": "92CMf1LlAvf6",
        "outputId": "25def861-f94d-4741-d045-f685cdb0258c",
        "colab": {
          "base_uri": "https://localhost:8080/"
        }
      },
      "outputs": [
        {
          "output_type": "execute_result",
          "data": {
            "text/plain": [
              "NoneType"
            ]
          },
          "metadata": {},
          "execution_count": 24
        }
      ],
      "source": [
        "type(None)"
      ]
    },
    {
      "cell_type": "markdown",
      "metadata": {
        "id": "o7GBx39PAvf6"
      },
      "source": [
        "None is a data type in Python that represents nothing.  So, if we do not know the type of a variable and want to have the data to the variable be assigned later, we can assign that variable to `None`."
      ]
    },
    {
      "cell_type": "code",
      "execution_count": 25,
      "metadata": {
        "id": "LMXC1rSwAvf6"
      },
      "outputs": [],
      "source": [
        "address = None"
      ]
    },
    {
      "cell_type": "code",
      "source": [
        "class_name = None\n",
        "class_name"
      ],
      "metadata": {
        "id": "aTywJBCrrBqh"
      },
      "execution_count": 26,
      "outputs": []
    },
    {
      "cell_type": "markdown",
      "metadata": {
        "id": "zcil8YiOAvf6"
      },
      "source": [
        "Notice that `address` is now assigned, but it is assigned to `None`."
      ]
    },
    {
      "cell_type": "code",
      "execution_count": 27,
      "metadata": {
        "id": "-q_JjXM0Avf6"
      },
      "outputs": [],
      "source": [
        "address"
      ]
    },
    {
      "cell_type": "code",
      "source": [
        "#declaring class name will not give any output since it is not not assigned to anyhing\n",
        "class_name"
      ],
      "metadata": {
        "id": "rlHqpxT_rItk"
      },
      "execution_count": 28,
      "outputs": []
    },
    {
      "cell_type": "markdown",
      "metadata": {
        "id": "bdkfEQr3Avf6"
      },
      "source": [
        "**Note:** *when variables are assigned to `None`, pressing shift + enter on the cell block will not output anything.*"
      ]
    },
    {
      "cell_type": "markdown",
      "metadata": {
        "id": "xVW8J0YwAvf6"
      },
      "source": [
        "## Reassigning variables"
      ]
    },
    {
      "cell_type": "markdown",
      "metadata": {
        "id": "PjC5DwIXAvf6"
      },
      "source": [
        "Now that we have this data, we can imagine using it for some kind of instruction.  For example, say we want to write ourself a memo on how to reach out to someone we just met. Here's the message:"
      ]
    },
    {
      "cell_type": "code",
      "execution_count": 29,
      "metadata": {
        "id": "64U9xOLSAvf6",
        "outputId": "172a2a72-191c-443d-b2b4-3a86056dfb46",
        "colab": {
          "base_uri": "https://localhost:8080/",
          "height": 36
        }
      },
      "outputs": [
        {
          "output_type": "execute_result",
          "data": {
            "text/plain": [
              "\"Send an email to Art Vandelay at 'art.vandelay@vandelay.com' to say how nice it was meeting yesterday.\""
            ],
            "application/vnd.google.colaboratory.intrinsic+json": {
              "type": "string"
            }
          },
          "metadata": {},
          "execution_count": 29
        }
      ],
      "source": [
        "\"Send an email to Art Vandelay at 'art.vandelay@vandelay.com' to say how nice it was meeting yesterday.\""
      ]
    },
    {
      "cell_type": "code",
      "source": [
        "#sending students a message on the opening dates\n",
        "\"Dear 'Joakim Kombe Nandwa', the new school openign dates are as from 1st July 2022\""
      ],
      "metadata": {
        "colab": {
          "base_uri": "https://localhost:8080/",
          "height": 36
        },
        "id": "CP_yG4kbrjMB",
        "outputId": "1b4466f3-462c-45ef-f3fe-7e193a89a65d"
      },
      "execution_count": 31,
      "outputs": [
        {
          "output_type": "execute_result",
          "data": {
            "text/plain": [
              "\"Dear 'Joakim Kombe Nandwa', the new school openign dates are as from 1st July 2022\""
            ],
            "application/vnd.google.colaboratory.intrinsic+json": {
              "type": "string"
            }
          },
          "metadata": {},
          "execution_count": 31
        }
      ]
    },
    {
      "cell_type": "markdown",
      "metadata": {
        "id": "i6UNBw5-Avf6"
      },
      "source": [
        "If we construct this message with variables, we can write the following:"
      ]
    },
    {
      "cell_type": "code",
      "execution_count": 32,
      "metadata": {
        "id": "BDxE59_rAvf6",
        "outputId": "705acd1a-33b1-45fd-bf4e-25b3fd46288c",
        "colab": {
          "base_uri": "https://localhost:8080/",
          "height": 36
        }
      },
      "outputs": [
        {
          "output_type": "execute_result",
          "data": {
            "text/plain": [
              "'Send an email to Art Vandelay at art.vandelay@vandelay.com to say how nice it was meeting yesterday.'"
            ],
            "application/vnd.google.colaboratory.intrinsic+json": {
              "type": "string"
            }
          },
          "metadata": {},
          "execution_count": 32
        }
      ],
      "source": [
        "\"Send an email to \" + full_name + \" at \" + email +  \" to say how nice it was meeting yesterday.\""
      ]
    },
    {
      "cell_type": "code",
      "source": [
        "\"Dear\" +student_full_name + \",\" + \"The new school opening dates are as from 1st July 2022\""
      ],
      "metadata": {
        "colab": {
          "base_uri": "https://localhost:8080/",
          "height": 36
        },
        "id": "RBd8OL4zsXlS",
        "outputId": "f0b72ff9-b527-446e-98d8-aa9e9f20b521"
      },
      "execution_count": 33,
      "outputs": [
        {
          "output_type": "execute_result",
          "data": {
            "text/plain": [
              "'Dear Joakim Kombe Nandwa,The new school opening dates are as from 1st July 2022'"
            ],
            "application/vnd.google.colaboratory.intrinsic+json": {
              "type": "string"
            }
          },
          "metadata": {},
          "execution_count": 33
        }
      ]
    },
    {
      "cell_type": "markdown",
      "metadata": {
        "id": "ZioB1DH-Avf7"
      },
      "source": [
        "Now you meet someone else, \"Liz Kaplan\" with the email of \"liz@ka-plan.com\" and want to write a memo with the same instructions. Only two things vary in the memo: name and email. This should be easy enough given the way we set up our code above. First we need to change the variables, `full_name` and `email`, by setting them to our new data."
      ]
    },
    {
      "cell_type": "code",
      "execution_count": 34,
      "metadata": {
        "id": "SXI82voIAvf7"
      },
      "outputs": [],
      "source": [
        "full_name = 'Liz Kaplan'\n",
        "email = 'liz@ka-plan.com'"
      ]
    },
    {
      "cell_type": "code",
      "source": [
        "student_full_name = 'Faith Kavulani Kesenwa'\n",
        "student_email = 'faithkavulani@gmail.com'"
      ],
      "metadata": {
        "id": "G1e3seiLtWtY"
      },
      "execution_count": 35,
      "outputs": []
    },
    {
      "cell_type": "code",
      "source": [
        "print(student_full_name)\n",
        "print(student_email)"
      ],
      "metadata": {
        "colab": {
          "base_uri": "https://localhost:8080/"
        },
        "id": "emEcfsZMtg3E",
        "outputId": "6c4b350d-777d-4882-b72b-e5006fc1273c"
      },
      "execution_count": 37,
      "outputs": [
        {
          "output_type": "stream",
          "name": "stdout",
          "text": [
            "Faith Kavulani Kesenwa\n",
            "faithkavulani@gmail.com\n"
          ]
        }
      ]
    },
    {
      "cell_type": "markdown",
      "metadata": {
        "id": "RinFu_x6AvgA"
      },
      "source": [
        "So as you can see, we reassign our variables by just setting `variable = 'new data'`. Presto, our variable is then updated."
      ]
    },
    {
      "cell_type": "code",
      "execution_count": 38,
      "metadata": {
        "id": "5ikKyrObAvgA",
        "outputId": "7fafb389-dcf9-462d-f66f-84503845bd0c",
        "colab": {
          "base_uri": "https://localhost:8080/",
          "height": 36
        }
      },
      "outputs": [
        {
          "output_type": "execute_result",
          "data": {
            "text/plain": [
              "'Liz Kaplan'"
            ],
            "application/vnd.google.colaboratory.intrinsic+json": {
              "type": "string"
            }
          },
          "metadata": {},
          "execution_count": 38
        }
      ],
      "source": [
        "full_name # 'Liz Kaplan'"
      ]
    },
    {
      "cell_type": "code",
      "execution_count": 39,
      "metadata": {
        "id": "2nnY03dTAvgA",
        "outputId": "7b11697c-ba2e-4985-91d0-3a48fe7d4a58",
        "colab": {
          "base_uri": "https://localhost:8080/",
          "height": 36
        }
      },
      "outputs": [
        {
          "output_type": "execute_result",
          "data": {
            "text/plain": [
              "'liz@ka-plan.com'"
            ],
            "application/vnd.google.colaboratory.intrinsic+json": {
              "type": "string"
            }
          },
          "metadata": {},
          "execution_count": 39
        }
      ],
      "source": [
        "email # 'liz@ka-plan.com'"
      ]
    },
    {
      "cell_type": "markdown",
      "metadata": {
        "id": "r0fF6UBNAvgA"
      },
      "source": [
        "Now, if we copy and re-run our previous code, we will see it is automatically updated."
      ]
    },
    {
      "cell_type": "code",
      "execution_count": null,
      "metadata": {
        "id": "FQB7rELkAvgA",
        "outputId": "f57b997c-243d-4127-bbbe-5a00e1465702"
      },
      "outputs": [
        {
          "data": {
            "text/plain": [
              "'Send an email to Liz Kaplan at liz@ka-plan.com to say how nice it was meeting yesterday.'"
            ]
          },
          "execution_count": 18,
          "metadata": {},
          "output_type": "execute_result"
        }
      ],
      "source": [
        "\"Send an email to \" + full_name + \" at \" + email +  \" to say how nice it was meeting yesterday.\""
      ]
    },
    {
      "cell_type": "code",
      "source": [
        "#message for new school openign dates\n",
        "\"Dear \" +  student_full_name + \",\" + \"The new school opening dates are as from 1st July 2022\""
      ],
      "metadata": {
        "colab": {
          "base_uri": "https://localhost:8080/",
          "height": 36
        },
        "id": "Q_7DxOUAtt4v",
        "outputId": "dce4c323-1d92-4cf8-ffa2-2419c34ed628"
      },
      "execution_count": 46,
      "outputs": [
        {
          "output_type": "execute_result",
          "data": {
            "text/plain": [
              "'Dear Faith Kavulani Kesenwa,The new school opening dates are as from 1st July 2022'"
            ],
            "application/vnd.google.colaboratory.intrinsic+json": {
              "type": "string"
            }
          },
          "metadata": {},
          "execution_count": 46
        }
      ]
    },
    {
      "cell_type": "markdown",
      "metadata": {
        "id": "ldqg-rIJAvgA"
      },
      "source": [
        "In the line above, we are getting to some of the real power of programming. By choosing the correct variable name, we can begin to change the values of `full_name` or `email` and operate on their underlying values in the same ways."
      ]
    },
    {
      "cell_type": "code",
      "source": [
        "#Checking the type of date\n",
        "type(student_full_name)"
      ],
      "metadata": {
        "colab": {
          "base_uri": "https://localhost:8080/"
        },
        "id": "fQl1UbPEuh6t",
        "outputId": "9506bcd9-d1ce-4d37-b732-34794c5bd1fe"
      },
      "execution_count": 48,
      "outputs": [
        {
          "output_type": "execute_result",
          "data": {
            "text/plain": [
              "str"
            ]
          },
          "metadata": {},
          "execution_count": 48
        }
      ]
    },
    {
      "cell_type": "markdown",
      "metadata": {
        "id": "dESCM5hRAvgA"
      },
      "source": [
        "## Summary"
      ]
    },
    {
      "cell_type": "markdown",
      "metadata": {
        "id": "eCAtRgJcAvgA"
      },
      "source": [
        "In this lesson, we got a taste for what makes computer programs so powerful.  By using variables, we can write programs that know how to combine data.  This can save us time by avoiding boring, repetitive tasks.  We declare and assign a variable with the pattern of `variable = data`, and reassign a variable with the same pattern.  To reference a variable, we simply type the variable's name.  \n",
        "\n",
        "We also saw that one of the things to pay attention to when working with variables is that they are sometimes different from what we expect.  Just type the name of the variable to see what it really is and make any necessary changes."
      ]
    }
  ],
  "metadata": {
    "kernelspec": {
      "display_name": "Python 3",
      "language": "python",
      "name": "python3"
    },
    "language_info": {
      "codemirror_mode": {
        "name": "ipython",
        "version": 3
      },
      "file_extension": ".py",
      "mimetype": "text/x-python",
      "name": "python",
      "nbconvert_exporter": "python",
      "pygments_lexer": "ipython3",
      "version": "3.6.9"
    },
    "colab": {
      "provenance": [],
      "include_colab_link": true
    }
  },
  "nbformat": 4,
  "nbformat_minor": 0
}